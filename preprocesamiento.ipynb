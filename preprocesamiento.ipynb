{
 "cells": [
  {
   "cell_type": "markdown",
   "metadata": {},
   "source": [
    "# Prepocesamiento\n",
    "1. Cargar data"
   ]
  },
  {
   "cell_type": "code",
   "execution_count": 34,
   "metadata": {},
   "outputs": [],
   "source": [
    "import os"
   ]
  },
  {
   "cell_type": "code",
   "execution_count": 35,
   "metadata": {},
   "outputs": [],
   "source": [
    "#Path de los datos \n",
    "data_path = r'D:\\U\\7. Septimo\\Rec. Info\\test_txt' "
   ]
  },
  {
   "cell_type": "code",
   "execution_count": 36,
   "metadata": {},
   "outputs": [
    {
     "data": {
      "text/plain": [
       "3019"
      ]
     },
     "execution_count": 36,
     "metadata": {},
     "output_type": "execute_result"
    }
   ],
   "source": [
    "#Crear un vector de documentos\n",
    "#Abrimos cada archivo y lo leemos\n",
    "documents = []\n",
    "for filename in os.listdir(data_path):\n",
    "    if filename.endswith('.txt'):\n",
    "        path = os.path.join(data_path, filename)\n",
    "        with open(path, 'r', encoding='utf-8') as file:\n",
    "            content = file.read()\n",
    "            documents.append((filename, content))\n",
    "len(documents)"
   ]
  },
  {
   "cell_type": "markdown",
   "metadata": {},
   "source": [
    " 2. StopWords y Stemming"
   ]
  },
  {
   "cell_type": "code",
   "execution_count": 37,
   "metadata": {},
   "outputs": [],
   "source": [
    "from nltk.stem import SnowballStemmer "
   ]
  },
  {
   "cell_type": "code",
   "execution_count": 38,
   "metadata": {},
   "outputs": [],
   "source": [
    "#Stemmer se usa para reducir las palabras a su raíz\n",
    "stemmer = SnowballStemmer('english')"
   ]
  },
  {
   "cell_type": "code",
   "execution_count": 39,
   "metadata": {},
   "outputs": [],
   "source": [
    "#Path de las stopwords\n",
    "stopwords_path = r\"D:\\U\\7. Septimo\\Rec. Info\\reuters\\reuters\\stopwords.txt\""
   ]
  },
  {
   "cell_type": "code",
   "execution_count": 40,
   "metadata": {},
   "outputs": [],
   "source": [
    "#Abrimos el archivo y leemos las stopwords\n",
    "with open(stopwords_path, 'r', encoding='utf-8') as file:\n",
    "    stop_words = set(file.read().splitlines())"
   ]
  },
  {
   "cell_type": "markdown",
   "metadata": {},
   "source": [
    "3. Tokenización"
   ]
  },
  {
   "cell_type": "code",
   "execution_count": 48,
   "metadata": {},
   "outputs": [],
   "source": [
    "#Función para tokenizar y stemmizar\n",
    "#tokenizar: dividir el texto en palabras\n",
    "import nltk\n",
    "import string"
   ]
  },
  {
   "cell_type": "code",
   "execution_count": 49,
   "metadata": {},
   "outputs": [],
   "source": [
    "#Definimos una función que preprocesa el texto con todos los requisitos necesarios:\n",
    "#conviertimos en minúsculas\n",
    "#eliminamos los signos de puntuación\n",
    "#tokenizamos\n",
    "#aplicamos stemming\n",
    "def preprocess_text(text):\n",
    "    text = text.lower()\n",
    "    text = text.translate(str.maketrans('', '', string.punctuation))\n",
    "    tokens = nltk.word_tokenize(text)\n",
    "    processed_tokens = [stemmer.stem(word) for word in tokens if word not in stop_words]\n",
    "    return ' '.join(processed_tokens)\n"
   ]
  },
  {
   "cell_type": "markdown",
   "metadata": {},
   "source": [
    "4. Aplicación a todos los documentos"
   ]
  },
  {
   "cell_type": "code",
   "execution_count": 50,
   "metadata": {},
   "outputs": [],
   "source": [
    "#Preprocesamos los documentos\n",
    "preprocessed_documents = [(filename, preprocess_text(content)) for filename, content in documents]"
   ]
  },
  {
   "cell_type": "code",
   "execution_count": 51,
   "metadata": {},
   "outputs": [
    {
     "data": {
      "text/plain": [
       "3019"
      ]
     },
     "execution_count": 51,
     "metadata": {},
     "output_type": "execute_result"
    }
   ],
   "source": [
    "len(preprocessed_documents)"
   ]
  },
  {
   "cell_type": "markdown",
   "metadata": {},
   "source": [
    "5. Guardas los documentos pre-prosesados"
   ]
  },
  {
   "cell_type": "code",
   "execution_count": 45,
   "metadata": {},
   "outputs": [],
   "source": [
    "#Guardamos los documentos preprocesados en un directorio \n",
    "preprocessed_data_path = r'D:\\U\\7. Septimo\\Rec. Info\\preprocessed_txt'\n",
    "os.makedirs(preprocessed_data_path, exist_ok=True)\n",
    "for filename, content in preprocessed_documents:\n",
    "    with open(os.path.join(preprocessed_data_path, filename), 'w', encoding='utf-8') as file:\n",
    "        file.write(content)"
   ]
  }
 ],
 "metadata": {
  "kernelspec": {
   "display_name": "Python 3",
   "language": "python",
   "name": "python3"
  },
  "language_info": {
   "codemirror_mode": {
    "name": "ipython",
    "version": 3
   },
   "file_extension": ".py",
   "mimetype": "text/x-python",
   "name": "python",
   "nbconvert_exporter": "python",
   "pygments_lexer": "ipython3",
   "version": "3.11.9"
  }
 },
 "nbformat": 4,
 "nbformat_minor": 2
}
