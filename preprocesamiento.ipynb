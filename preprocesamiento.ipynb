{
 "cells": [
  {
   "cell_type": "markdown",
   "metadata": {},
   "source": [
    "# Prepocesamiento\n",
    "1. Cargar data"
   ]
  },
  {
   "cell_type": "code",
   "execution_count": 14,
   "metadata": {},
   "outputs": [],
   "source": [
    "import os"
   ]
  },
  {
   "cell_type": "code",
   "execution_count": 15,
   "metadata": {},
   "outputs": [],
   "source": [
    "#Path de los datos \n",
    "data_path = r'D:\\U\\7. Septimo\\RI\\ProyectoRI\\data\\test_txt' "
   ]
  },
  {
   "cell_type": "code",
   "execution_count": 16,
   "metadata": {},
   "outputs": [
    {
     "data": {
      "text/plain": [
       "3019"
      ]
     },
     "execution_count": 16,
     "metadata": {},
     "output_type": "execute_result"
    }
   ],
   "source": [
    "#Crear un vector de documentos\n",
    "#Abrimos cada archivo y lo leemos\n",
    "documents = []\n",
    "for filename in os.listdir(data_path):\n",
    "    if filename.endswith('.txt'):\n",
    "        path = os.path.join(data_path, filename)\n",
    "        with open(path, 'r', encoding='utf-8') as file:\n",
    "            content = file.read()\n",
    "            documents.append((filename, content))\n",
    "len(documents)"
   ]
  },
  {
   "cell_type": "markdown",
   "metadata": {},
   "source": [
    " 2. StopWords y Stemming"
   ]
  },
  {
   "cell_type": "code",
   "execution_count": 17,
   "metadata": {},
   "outputs": [],
   "source": [
    "from nltk.stem import SnowballStemmer "
   ]
  },
  {
   "cell_type": "code",
   "execution_count": 18,
   "metadata": {},
   "outputs": [],
   "source": [
    "#Stemmer se usa para reducir las palabras a su raíz\n",
    "stemmer = SnowballStemmer('english')"
   ]
  },
  {
   "cell_type": "code",
   "execution_count": 21,
   "metadata": {},
   "outputs": [],
   "source": [
    "#Path de las stopwords\n",
    "stopwords_path = r\"D:\\U\\7. Septimo\\RI\\ProyectoRI\\data\\stopwords.txt\""
   ]
  },
  {
   "cell_type": "code",
   "execution_count": 22,
   "metadata": {},
   "outputs": [],
   "source": [
    "#Abrimos el archivo y leemos las stopwords\n",
    "with open(stopwords_path, 'r', encoding='utf-8') as file:\n",
    "    stop_words = set(file.read().splitlines())"
   ]
  },
  {
   "cell_type": "markdown",
   "metadata": {},
   "source": [
    "3. Tokenización"
   ]
  },
  {
   "cell_type": "code",
   "execution_count": 23,
   "metadata": {},
   "outputs": [],
   "source": [
    "#Función para tokenizar y stemmizar\n",
    "#tokenizar: dividir el texto en palabras\n",
    "import nltk\n",
    "import string"
   ]
  },
  {
   "cell_type": "code",
   "execution_count": 24,
   "metadata": {},
   "outputs": [],
   "source": [
    "#Definimos una función que normaliza el texto con todos los requisitos necesarios:\n",
    "#conviertimos en minúsculas\n",
    "#eliminamos los signos de puntuación\n",
    "#tokenizamos\n",
    "#aplicamos stemming\n",
    "def preprocess_text(text):\n",
    "    text = text.lower()\n",
    "    text = text.translate(str.maketrans('', '', string.punctuation))\n",
    "    tokens = nltk.word_tokenize(text)\n",
    "    processed_tokens = [stemmer.stem(word) for word in tokens if word not in stop_words]\n",
    "    return ' '.join(processed_tokens)\n"
   ]
  },
  {
   "cell_type": "markdown",
   "metadata": {},
   "source": [
    "4. Aplicación a todos los documentos"
   ]
  },
  {
   "cell_type": "code",
   "execution_count": 25,
   "metadata": {},
   "outputs": [],
   "source": [
    "#Preprocesamos los documentos\n",
    "preprocessed_documents = [(filename, preprocess_text(content)) for filename, content in documents]"
   ]
  },
  {
   "cell_type": "code",
   "execution_count": 26,
   "metadata": {},
   "outputs": [
    {
     "data": {
      "text/plain": [
       "3019"
      ]
     },
     "execution_count": 26,
     "metadata": {},
     "output_type": "execute_result"
    }
   ],
   "source": [
    "len(preprocessed_documents)"
   ]
  },
  {
   "cell_type": "markdown",
   "metadata": {},
   "source": [
    "Transformacion de tupla a lista\n",
    "tupla = ()\n",
    "lista = []"
   ]
  },
  {
   "cell_type": "code",
   "execution_count": 31,
   "metadata": {},
   "outputs": [],
   "source": [
    "folder_path = 'D:\\\\U\\\\7. Septimo\\\\RI\\\\ProyectoRI\\\\data\\\\cats.txt'"
   ]
  },
  {
   "cell_type": "code",
   "execution_count": 32,
   "metadata": {},
   "outputs": [],
   "source": [
    "lines = []\n",
    "with open(folder_path, 'r', encoding='utf-8') as file:\n",
    "    lines = file.readlines()"
   ]
  },
  {
   "cell_type": "code",
   "execution_count": 33,
   "metadata": {},
   "outputs": [],
   "source": [
    "def build_inverted_index(lines):\n",
    "    index = {}\n",
    "    for line in lines:\n",
    "        # Separar la ruta del documento y los términos\n",
    "        parts = line.strip().split()\n",
    "        document = parts[0]\n",
    "        terms = parts[1:]\n",
    "        \n",
    "        for term in terms:\n",
    "            if term in index:\n",
    "                index[term].append(document)\n",
    "            else:\n",
    "                index[term] = [document]\n",
    "    return index\n",
    "\n",
    "# Construir el índice invertido\n",
    "inverted_index = build_inverted_index(lines)"
   ]
  },
  {
   "cell_type": "code",
   "execution_count": 34,
   "metadata": {},
   "outputs": [],
   "source": [
    "preprocessed_documents_list = [doc[0] if isinstance(doc, tuple) else doc for doc in preprocessed_documents]"
   ]
  },
  {
   "cell_type": "code",
   "execution_count": 36,
   "metadata": {},
   "outputs": [],
   "source": [
    "\n",
    "import numpy as np\n",
    "import pandas as pd\n",
    "from sklearn.feature_extraction.text import CountVectorizer, TfidfVectorizer\n",
    "from sklearn.metrics.pairwise import cosine_similarity\n"
   ]
  },
  {
   "cell_type": "markdown",
   "metadata": {},
   "source": [
    "//"
   ]
  },
  {
   "cell_type": "code",
   "execution_count": 37,
   "metadata": {},
   "outputs": [],
   "source": [
    "# Extraer los textos preprocesados\n",
    "texts = [content for _, content in preprocessed_documents]"
   ]
  },
  {
   "cell_type": "code",
   "execution_count": 38,
   "metadata": {},
   "outputs": [],
   "source": [
    "# Vectorización con Bag of Words (BoW)\n",
    "bow_vectorizer = CountVectorizer()\n",
    "bow_matrix = bow_vectorizer.fit_transform(texts)"
   ]
  },
  {
   "cell_type": "code",
   "execution_count": 39,
   "metadata": {},
   "outputs": [],
   "source": [
    "# Vectorización con TF-IDF\n",
    "tfidf_vectorizer = TfidfVectorizer()\n",
    "tfidf_matrix = tfidf_vectorizer.fit_transform(texts)"
   ]
  },
  {
   "cell_type": "code",
   "execution_count": 40,
   "metadata": {},
   "outputs": [
    {
     "name": "stdout",
     "output_type": "stream",
     "text": [
      "BoW matrix shape: (3019, 19667)\n",
      "TF-IDF matrix shape: (3019, 19667)\n"
     ]
    }
   ],
   "source": [
    "# Verificar la forma de las matrices\n",
    "print(\"BoW matrix shape:\", bow_matrix.shape)\n",
    "print(\"TF-IDF matrix shape:\", tfidf_matrix.shape)"
   ]
  },
  {
   "cell_type": "markdown",
   "metadata": {},
   "source": [
    "# 2.5 Motor de Busqueda"
   ]
  },
  {
   "cell_type": "code",
   "execution_count": 43,
   "metadata": {},
   "outputs": [
    {
     "name": "stdout",
     "output_type": "stream",
     "text": [
      "Documentos similares al documento 0 usando BoW: [   0  169 1118 1190   14 1452  761  803 1830 1101]\n",
      "Documentos similares al documento 0 usando TF-IDF: [   0  169 1118   14  698  761 1190 1516 1160 1452]\n"
     ]
    }
   ],
   "source": [
    "def find_similar_documents(matrix, index, top_n=10):\n",
    "    cosine_similarities = cosine_similarity(matrix[index:index+1], matrix).flatten()\n",
    "    related_docs_indices = cosine_similarities.argsort()[:-top_n-1:-1]\n",
    "    return related_docs_indices\n",
    "\n",
    "# Índice del documento para el cual deseas encontrar documentos relevantes\n",
    "doc_index = 0  # Puedes cambiar este valor\n",
    "\n",
    "# Encontrar documentos similares usando BoW\n",
    "similar_docs_bow = find_similar_documents(bow_matrix, doc_index)\n",
    "\n",
    "# Encontrar documentos similares usando TF-IDF\n",
    "similar_docs_tfidf = find_similar_documents(tfidf_matrix, doc_index)\n",
    "\n",
    "print(f\"Documentos similares al documento {doc_index} usando BoW: {similar_docs_bow}\")\n",
    "print(f\"Documentos similares al documento {doc_index} usando TF-IDF: {similar_docs_tfidf}\")\n"
   ]
  },
  {
   "cell_type": "code",
   "execution_count": null,
   "metadata": {},
   "outputs": [],
   "source": []
  },
  {
   "cell_type": "markdown",
   "metadata": {},
   "source": [
    "//"
   ]
  },
  {
   "cell_type": "code",
   "execution_count": null,
   "metadata": {},
   "outputs": [],
   "source": [
    "# Construir relevant_documents_bow a partir del índice invertido y las consultas\n",
    "relevant_documents_bow = {}\n",
    "for query, relevant_terms in inverted_index.items():\n",
    "    relevant_documents = set()\n",
    "    for term in relevant_terms:\n",
    "        if term in inverted_index:  # Verificar si el término está presente en el índice invertido\n",
    "            relevant_documents.update(inverted_index[term])\n",
    "    relevant_documents_bow[query] = list(relevant_documents)\n"
   ]
  },
  {
   "cell_type": "code",
   "execution_count": null,
   "metadata": {},
   "outputs": [
    {
     "name": "stdout",
     "output_type": "stream",
     "text": [
      "Precisión de los primeros 10 documentos recuperados: 0.0\n",
      "Recall de los primeros 10 documentos recuperados: 0.0\n"
     ]
    }
   ],
   "source": [
    "# Calcular la precisión y el recall de los primeros 10 documentos recuperados\n",
    "def calculate_precision_recall(inverted_index, relevant_documents_bow, documents_list, top_n=10):\n",
    "    precision_sum = 0\n",
    "    recall_sum = 0\n",
    "    num_queries = 0\n",
    "    \n",
    "    for query, relevant_documents in relevant_documents_bow.items():\n",
    "        retrieved_documents = set()\n",
    "        \n",
    "        for term in query.split():\n",
    "            if term in inverted_index:\n",
    "                retrieved_documents.update(inverted_index[term])\n",
    "        \n",
    "        # Calcular la intersección de los documentos relevantes y los recuperados\n",
    "        intersection = set(retrieved_documents).intersection(relevant_documents)\n",
    "        \n",
    "        # Calcular la precisión y el recall\n",
    "        precision = len(intersection) / top_n\n",
    "        if len(relevant_documents) == 0:\n",
    "            recall = 0\n",
    "        else: \n",
    "            recall = len(intersection) / len(relevant_documents)\n",
    "        \n",
    "        precision_sum += precision\n",
    "        recall_sum += recall\n",
    "        num_queries += 1\n",
    "    \n",
    "    # Calcular el promedio de precisión y recall\n",
    "    precision_avg = precision_sum / num_queries\n",
    "    recall_avg = recall_sum / num_queries\n",
    "    \n",
    "    return precision_avg, recall_avg\n",
    "\n",
    "# Calcular la precisión y el recall para los primeros 10 documentos recuperados\n",
    "precision, recall = calculate_precision_recall(inverted_index, relevant_documents_bow, preprocessed_documents_list)\n",
    "\n",
    "print(\"Precisión de los primeros 10 documentos recuperados:\", precision)\n",
    "print(\"Recall de los primeros 10 documentos recuperados:\", recall)\n"
   ]
  }
 ],
 "metadata": {
  "kernelspec": {
   "display_name": "Python 3",
   "language": "python",
   "name": "python3"
  },
  "language_info": {
   "codemirror_mode": {
    "name": "ipython",
    "version": 3
   },
   "file_extension": ".py",
   "mimetype": "text/x-python",
   "name": "python",
   "nbconvert_exporter": "python",
   "pygments_lexer": "ipython3",
   "version": "3.12.2"
  }
 },
 "nbformat": 4,
 "nbformat_minor": 2
}
