{
 "cells": [
  {
   "cell_type": "markdown",
   "metadata": {},
   "source": [
    "# Prepocesamiento\n",
    "1. Cargar data"
   ]
  },
  {
   "cell_type": "code",
   "execution_count": 51,
   "metadata": {},
   "outputs": [],
   "source": [
    "import os"
   ]
  },
  {
   "cell_type": "code",
   "execution_count": 52,
   "metadata": {},
   "outputs": [],
   "source": [
    "#Path de los datos \n",
    "#data_path = r'C:\\Users\\kevin\\OneDrive\\Documentos\\GitHub\\ProyectoRI\\data\\test_txt' \n",
    "data_path = r'D:\\U\\7. Septimo\\RI\\ProyectoRI\\data\\training_txt'"
   ]
  },
  {
   "cell_type": "code",
   "execution_count": 53,
   "metadata": {},
   "outputs": [
    {
     "data": {
      "text/plain": [
       "7769"
      ]
     },
     "execution_count": 53,
     "metadata": {},
     "output_type": "execute_result"
    }
   ],
   "source": [
    "#Crear un vector de documentos\n",
    "#Abrimos cada archivo y lo leemos\n",
    "documents = []\n",
    "for filename in os.listdir(data_path):\n",
    "    if filename.endswith('.txt'):\n",
    "        path = os.path.join(data_path, filename)\n",
    "        with open(path, 'r', encoding='utf-8') as file:\n",
    "            content = file.read()\n",
    "            documents.append((filename, content))\n",
    "len(documents)"
   ]
  },
  {
   "cell_type": "markdown",
   "metadata": {},
   "source": [
    " 2. StopWords y Stemming"
   ]
  },
  {
   "cell_type": "code",
   "execution_count": 54,
   "metadata": {},
   "outputs": [],
   "source": [
    "from nltk.stem import SnowballStemmer "
   ]
  },
  {
   "cell_type": "code",
   "execution_count": 55,
   "metadata": {},
   "outputs": [],
   "source": [
    "#Stemmer se usa para reducir las palabras a su raíz\n",
    "stemmer = SnowballStemmer('english')"
   ]
  },
  {
   "cell_type": "code",
   "execution_count": 56,
   "metadata": {},
   "outputs": [],
   "source": [
    "#Path de las stopwords\n",
    "stopwords_path = r\"D:\\U\\7. Septimo\\RI\\ProyectoRI\\data\\stopwords.txt\""
   ]
  },
  {
   "cell_type": "code",
   "execution_count": 57,
   "metadata": {},
   "outputs": [],
   "source": [
    "#Abrimos el archivo y leemos las stopwords\n",
    "with open(stopwords_path, 'r', encoding='utf-8') as file:\n",
    "    stop_words = set(file.read().splitlines())"
   ]
  },
  {
   "cell_type": "markdown",
   "metadata": {},
   "source": [
    "3. Tokenización"
   ]
  },
  {
   "cell_type": "code",
   "execution_count": 64,
   "metadata": {},
   "outputs": [],
   "source": [
    "#Función para tokenizar y stemmizar\n",
    "#tokenizar: dividir el texto en palabras\n",
    "import nltk\n",
    "import string\n",
    "import re  # Asegúrate de importar el módulo 're' para expresiones regulares\n"
   ]
  },
  {
   "cell_type": "code",
   "execution_count": 65,
   "metadata": {},
   "outputs": [],
   "source": [
    "#Definimos una función que normaliza el texto con todos los requisitos necesarios:\n",
    "#conviertimos en minúsculas\n",
    "#eliminamos los signos de puntuación\n",
    "#tokenizamos\n",
    "#aplicamos stemming\n",
    "def preprocess_text(text):\n",
    "    text = text.lower()\n",
    "    text = re.sub(r'\\d+', '', text)  \n",
    "    text = text.translate(str.maketrans('', '', string.punctuation))\n",
    "    tokens = nltk.word_tokenize(text)\n",
    "    processed_tokens = [stemmer.stem(word) for word in tokens if word not in stop_words]\n",
    "    return ' '.join(processed_tokens)\n"
   ]
  },
  {
   "cell_type": "markdown",
   "metadata": {},
   "source": [
    "4. Aplicación a todos los documentos"
   ]
  },
  {
   "cell_type": "code",
   "execution_count": 66,
   "metadata": {},
   "outputs": [],
   "source": [
    "#Preprocesamos los documentos\n",
    "preprocessed_documents = [(filename, preprocess_text(content)) for filename, content in documents]\n"
   ]
  },
  {
   "cell_type": "code",
   "execution_count": 67,
   "metadata": {},
   "outputs": [
    {
     "data": {
      "text/plain": [
       "7769"
      ]
     },
     "execution_count": 67,
     "metadata": {},
     "output_type": "execute_result"
    }
   ],
   "source": [
    "len(preprocessed_documents)"
   ]
  },
  {
   "cell_type": "code",
   "execution_count": 68,
   "metadata": {},
   "outputs": [],
   "source": [
    "'''\n",
    "#Guardamos los documentos preprocesados en un directorio \n",
    "preprocessed_data_path = r'D:\\U\\7. Septimo\\RI\\ProyectoRI\\data\\preprocessed_txt'\n",
    "os.makedirs(preprocessed_data_path, exist_ok=True)\n",
    "for filename, content in preprocessed_documents:\n",
    "    with open(os.path.join(preprocessed_data_path, filename), 'w', encoding='utf-8') as file:\n",
    "        file.write(content)\n",
    "'''"
   ]
  },
  {
   "cell_type": "markdown",
   "metadata": {},
   "source": [
    "Transformacion de tupla a lista\n",
    "tupla = ()\n",
    "lista = []"
   ]
  },
  {
   "cell_type": "code",
   "execution_count": 69,
   "metadata": {},
   "outputs": [],
   "source": [
    "folder_path = 'D:\\\\U\\\\7. Septimo\\\\RI\\\\ProyectoRI\\\\data\\\\cats.txt'"
   ]
  },
  {
   "cell_type": "code",
   "execution_count": 70,
   "metadata": {},
   "outputs": [],
   "source": [
    "lines = []\n",
    "with open(folder_path, 'r', encoding='utf-8') as file:\n",
    "    lines = file.readlines()"
   ]
  },
  {
   "cell_type": "code",
   "execution_count": 71,
   "metadata": {},
   "outputs": [],
   "source": [
    "def build_inverted_index(lines):\n",
    "    index = {}\n",
    "    for line in lines:\n",
    "        # Separar la ruta del documento y los términos\n",
    "        parts = line.strip().split()\n",
    "        document = parts[0]\n",
    "        terms = parts[1:]\n",
    "        \n",
    "        for term in terms:\n",
    "            if term in index:\n",
    "                index[term].append(document)\n",
    "            else:\n",
    "                index[term] = [document]\n",
    "    return index\n",
    "\n",
    "# Construir el índice invertido\n",
    "inverted_index = build_inverted_index(lines)"
   ]
  },
  {
   "cell_type": "code",
   "execution_count": 72,
   "metadata": {},
   "outputs": [],
   "source": [
    "preprocessed_documents_list = [doc[0] if isinstance(doc, tuple) else doc for doc in preprocessed_documents]"
   ]
  },
  {
   "cell_type": "code",
   "execution_count": 73,
   "metadata": {},
   "outputs": [],
   "source": [
    "\n",
    "import numpy as np\n",
    "import pandas as pd\n",
    "from sklearn.feature_extraction.text import CountVectorizer, TfidfVectorizer\n",
    "from sklearn.metrics.pairwise import cosine_similarity\n"
   ]
  },
  {
   "cell_type": "markdown",
   "metadata": {},
   "source": [
    "//"
   ]
  },
  {
   "cell_type": "code",
   "execution_count": 74,
   "metadata": {},
   "outputs": [],
   "source": [
    "# Extraer los textos preprocesados\n",
    "texts = [content for _, content in preprocessed_documents]"
   ]
  },
  {
   "cell_type": "markdown",
   "metadata": {},
   "source": [
    "# Vectorizacion"
   ]
  },
  {
   "cell_type": "code",
   "execution_count": 75,
   "metadata": {},
   "outputs": [],
   "source": [
    "# Vectorización con Bag of Words (BoW)\n",
    "bow_vectorizer = CountVectorizer()\n",
    "bow_matrix = bow_vectorizer.fit_transform(texts)"
   ]
  },
  {
   "cell_type": "code",
   "execution_count": 76,
   "metadata": {},
   "outputs": [],
   "source": [
    "# Vectorización con TF-IDF\n",
    "tfidf_vectorizer = TfidfVectorizer()\n",
    "tfidf_matrix = tfidf_vectorizer.fit_transform(texts)"
   ]
  },
  {
   "cell_type": "code",
   "execution_count": 77,
   "metadata": {},
   "outputs": [
    {
     "name": "stdout",
     "output_type": "stream",
     "text": [
      "BoW matrix shape: (7769, 21411)\n",
      "TF-IDF matrix shape: (7769, 21411)\n"
     ]
    }
   ],
   "source": [
    "# Verificar la forma de las matrices\n",
    "print(\"BoW matrix shape:\", bow_matrix.shape)\n",
    "print(\"TF-IDF matrix shape:\", tfidf_matrix.shape)"
   ]
  },
  {
   "cell_type": "markdown",
   "metadata": {},
   "source": [
    "# 2.5 Motor de Busqueda"
   ]
  },
  {
   "cell_type": "code",
   "execution_count": 78,
   "metadata": {},
   "outputs": [
    {
     "name": "stdout",
     "output_type": "stream",
     "text": [
      "Documentos similares al documento 5 usando BoW: [   5 2367 6949 2264 5991 6083 5889  643 3486 2284]\n",
      "Documentos similares al documento 5 usando TF-IDF: [   5 2367 2284 2264 5991 3486 7125 5889 3632 6396]\n"
     ]
    }
   ],
   "source": [
    "def find_similar_documents(matrix, index, top_n=10):\n",
    "    cosine_similarities = cosine_similarity(matrix[index:index+1], matrix).flatten()\n",
    "    related_docs_indices = cosine_similarities.argsort()[:-top_n-1:-1]\n",
    "    return related_docs_indices\n",
    "\n",
    "# Índice del documento para el cual deseas encontrar documentos relevantes\n",
    "doc_index = 5  # Puedes cambiar este valor\n",
    "\n",
    "# Encontrar documentos similares usando BoW\n",
    "similar_docs_bow = find_similar_documents(bow_matrix, doc_index)\n",
    "\n",
    "# Encontrar documentos similares usando TF-IDF\n",
    "similar_docs_tfidf = find_similar_documents(tfidf_matrix, doc_index)\n",
    "\n",
    "print(f\"Documentos similares al documento {doc_index} usando BoW: {similar_docs_bow}\")\n",
    "print(f\"Documentos similares al documento {doc_index} usando TF-IDF: {similar_docs_tfidf}\")\n"
   ]
  },
  {
   "cell_type": "markdown",
   "metadata": {},
   "source": [
    "//"
   ]
  }
 ],
 "metadata": {
  "kernelspec": {
   "display_name": "Python 3",
   "language": "python",
   "name": "python3"
  },
  "language_info": {
   "codemirror_mode": {
    "name": "ipython",
    "version": 3
   },
   "file_extension": ".py",
   "mimetype": "text/x-python",
   "name": "python",
   "nbconvert_exporter": "python",
   "pygments_lexer": "ipython3",
   "version": "3.11.9"
  }
 },
 "nbformat": 4,
 "nbformat_minor": 2
}
