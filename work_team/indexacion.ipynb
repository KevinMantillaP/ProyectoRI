{
 "cells": [
  {
   "cell_type": "code",
   "execution_count": 1,
   "metadata": {},
   "outputs": [],
   "source": [
    "import pandas as pd"
   ]
  },
  {
   "cell_type": "code",
   "execution_count": 4,
   "metadata": {},
   "outputs": [],
   "source": [
    "folder_path = 'C:/Users/usuario/Fer-Pc/Escritorio/EPN/2024-A/SEPTIMO_SEMESTRE/RECUPERACION_DE_INFORMACION/repoMantillaRI/ProyectoRI/data/cats.txt'\n"
   ]
  },
  {
   "cell_type": "code",
   "execution_count": 6,
   "metadata": {},
   "outputs": [],
   "source": [
    "lines = []\n",
    "with open(folder_path, 'r', encoding='utf-8') as file:\n",
    "    lines = file.readlines()"
   ]
  },
  {
   "cell_type": "code",
   "execution_count": 7,
   "metadata": {},
   "outputs": [],
   "source": [
    "def build_inverted_index(lines):\n",
    "    index = {}\n",
    "    for line in lines:\n",
    "        # Separar la ruta del documento y los términos\n",
    "        parts = line.strip().split()\n",
    "        document = parts[0]\n",
    "        terms = parts[1:]\n",
    "        \n",
    "        for term in terms:\n",
    "            if term in index:\n",
    "                index[term].append(document)\n",
    "            else:\n",
    "                index[term] = [document]\n",
    "    return index\n",
    "\n",
    "# Construir el índice invertido\n",
    "inverted_index = build_inverted_index(lines)"
   ]
  },
  {
   "cell_type": "code",
   "execution_count": 8,
   "metadata": {},
   "outputs": [
    {
     "name": "stdout",
     "output_type": "stream",
     "text": [
      "                  0               1               2              3     \\\n",
      "trade       test/14826      test/14832      test/14858     test/14862   \n",
      "grain       test/14828      test/14832      test/14841     test/14858   \n",
      "nat-gas     test/14829      test/15322      test/15416     test/16007   \n",
      "crude       test/14829      test/15063      test/15200     test/15230   \n",
      "rubber      test/14832      test/14840      test/15409     test/15424   \n",
      "...                ...             ...             ...            ...   \n",
      "castor-oil  test/19672  training/10300            None           None   \n",
      "jet         test/20031   training/2957   training/6828  training/7397   \n",
      "palmkernel  test/20911    training/235  training/11778           None   \n",
      "cpu         test/21245   training/5388   training/5460  training/5485   \n",
      "rand        test/21535   training/7043   training/9336           None   \n",
      "\n",
      "                     4           5           6           7           8     \\\n",
      "trade          test/14881  test/14904  test/14912  test/15154  test/15171   \n",
      "grain          test/15033  test/15043  test/15097  test/15106  test/15132   \n",
      "nat-gas        test/16166  test/16238  test/16438  test/16499  test/16593   \n",
      "crude          test/15238  test/15244  test/15322  test/15339  test/15344   \n",
      "rubber         test/16776  test/17455  test/17894  test/20079  test/20230   \n",
      "...                   ...         ...         ...         ...         ...   \n",
      "castor-oil           None        None        None        None        None   \n",
      "jet         training/9573        None        None        None        None   \n",
      "palmkernel           None        None        None        None        None   \n",
      "cpu                  None        None        None        None        None   \n",
      "rand                 None        None        None        None        None   \n",
      "\n",
      "                  9     ...  3954  3955  3956  3957  3958  3959  3960  3961  \\\n",
      "trade       test/15223  ...  None  None  None  None  None  None  None  None   \n",
      "grain       test/15271  ...  None  None  None  None  None  None  None  None   \n",
      "nat-gas     test/17492  ...  None  None  None  None  None  None  None  None   \n",
      "crude       test/15351  ...  None  None  None  None  None  None  None  None   \n",
      "rubber      test/20267  ...  None  None  None  None  None  None  None  None   \n",
      "...                ...  ...   ...   ...   ...   ...   ...   ...   ...   ...   \n",
      "castor-oil        None  ...  None  None  None  None  None  None  None  None   \n",
      "jet               None  ...  None  None  None  None  None  None  None  None   \n",
      "palmkernel        None  ...  None  None  None  None  None  None  None  None   \n",
      "cpu               None  ...  None  None  None  None  None  None  None  None   \n",
      "rand              None  ...  None  None  None  None  None  None  None  None   \n",
      "\n",
      "            3962  3963  \n",
      "trade       None  None  \n",
      "grain       None  None  \n",
      "nat-gas     None  None  \n",
      "crude       None  None  \n",
      "rubber      None  None  \n",
      "...          ...   ...  \n",
      "castor-oil  None  None  \n",
      "jet         None  None  \n",
      "palmkernel  None  None  \n",
      "cpu         None  None  \n",
      "rand        None  None  \n",
      "\n",
      "[90 rows x 3964 columns]\n"
     ]
    }
   ],
   "source": [
    "index_df = pd.DataFrame.from_dict(inverted_index, orient='index')\n",
    "print(index_df)"
   ]
  }
 ],
 "metadata": {
  "kernelspec": {
   "display_name": "Python 3",
   "language": "python",
   "name": "python3"
  },
  "language_info": {
   "codemirror_mode": {
    "name": "ipython",
    "version": 3
   },
   "file_extension": ".py",
   "mimetype": "text/x-python",
   "name": "python",
   "nbconvert_exporter": "python",
   "pygments_lexer": "ipython3",
   "version": "3.12.2"
  }
 },
 "nbformat": 4,
 "nbformat_minor": 2
}
