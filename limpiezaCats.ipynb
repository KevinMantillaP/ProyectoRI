{
 "cells": [
  {
   "cell_type": "code",
   "execution_count": 16,
   "metadata": {},
   "outputs": [],
   "source": [
    "import re\n",
    "from collections import defaultdict\n",
    "\n",
    "def procesar_archivo(archivo):\n",
    "    apariciones = defaultdict(list)\n",
    "\n",
    "    with open(archivo, 'r') as file:\n",
    "        for linea in file:\n",
    "            # Eliminar \"test/\"\n",
    "            linea = re.sub(r'test/|training/', '', linea)\n",
    "            # Dividir la línea en documento y palabras\n",
    "            partes = linea.strip().split()\n",
    "            if len(partes) > 1:\n",
    "                documento = partes[0]\n",
    "                palabras = partes[1:]\n",
    "                for palabra in palabras:\n",
    "                    if documento not in apariciones[palabra]:\n",
    "                        apariciones[palabra].append(documento)\n",
    "\n",
    "    return apariciones\n",
    "\n",
    "def guardar_resultados(apariciones, archivo_salida):\n",
    "    with open(archivo_salida, 'w') as file:\n",
    "        # Obtener y ordenar las palabras\n",
    "        palabras = sorted(apariciones.keys())\n",
    "        \n",
    "        for palabra in palabras:\n",
    "            documentos = sorted(apariciones[palabra])\n",
    "            fila = palabra + \" \" + \" \".join(documentos) + \"\\n\"\n",
    "            file.write(fila)\n",
    "\n",
    "# Ruta del archivo de entrada\n",
    "archivo_entrada = r'C:\\Users\\usuario\\Fer-Pc\\Escritorio\\EPN\\2024-A\\SEPTIMO_SEMESTRE\\RECUPERACION_DE_INFORMACION\\repoMantillaRI\\ProyectoRI\\data\\cats.txt'\n",
    "# Nombre del archivo de salida\n",
    "archivo_salida = 'catslimpios.txt'\n",
    "\n",
    "apariciones = procesar_archivo(archivo_entrada)\n",
    "guardar_resultados(apariciones, archivo_salida)\n"
   ]
  }
 ],
 "metadata": {
  "kernelspec": {
   "display_name": "Python 3",
   "language": "python",
   "name": "python3"
  },
  "language_info": {
   "codemirror_mode": {
    "name": "ipython",
    "version": 3
   },
   "file_extension": ".py",
   "mimetype": "text/x-python",
   "name": "python",
   "nbconvert_exporter": "python",
   "pygments_lexer": "ipython3",
   "version": "3.12.2"
  }
 },
 "nbformat": 4,
 "nbformat_minor": 2
}
