{
 "cells": [
  {
   "cell_type": "code",
   "execution_count": 1,
   "metadata": {},
   "outputs": [
    {
     "name": "stdout",
     "output_type": "stream",
     "text": [
      "BoW Feature Names: ['alfombra' 'amigos' 'el' 'en' 'gato' 'la' 'perro' 'se' 'sentó' 'son']\n",
      "BoW Matrix:\n",
      " [[1 0 1 1 1 1 0 1 1 0]\n",
      " [1 0 1 1 0 1 1 1 1 0]\n",
      " [0 1 2 0 1 0 1 0 0 1]]\n",
      "\n",
      "TF-IDF Feature Names: ['alfombra' 'amigos' 'el' 'en' 'gato' 'la' 'perro' 'se' 'sentó' 'son']\n",
      "TF-IDF Matrix:\n",
      " [[0.38915836 0.         0.30221618 0.38915836 0.38915836 0.38915836\n",
      "  0.         0.38915836 0.38915836 0.        ]\n",
      " [0.38915836 0.         0.30221618 0.38915836 0.         0.38915836\n",
      "  0.38915836 0.38915836 0.38915836 0.        ]\n",
      " [0.         0.46869865 0.55364194 0.         0.3564574  0.\n",
      "  0.3564574  0.         0.         0.46869865]]\n"
     ]
    }
   ],
   "source": [
    "from sklearn.feature_extraction.text import CountVectorizer, TfidfVectorizer\n",
    "\n",
    "# Definir los documentos\n",
    "documents = [\n",
    "    \"El gato se sentó en la alfombra\",\n",
    "    \"El perro se sentó en la alfombra\",\n",
    "    \"El gato y el perro son amigos\"\n",
    "]\n",
    "\n",
    "# Bag of Words con CountVectorizer\n",
    "bow_vectorizer = CountVectorizer()\n",
    "bow_matrix = bow_vectorizer.fit_transform(documents)\n",
    "print(\"BoW Feature Names:\", bow_vectorizer.get_feature_names_out())\n",
    "print(\"BoW Matrix:\\n\", bow_matrix.toarray())\n",
    "\n",
    "# TF-IDF con TfidfVectorizer\n",
    "tfidf_vectorizer = TfidfVectorizer()\n",
    "tfidf_matrix = tfidf_vectorizer.fit_transform(documents)\n",
    "print(\"\\nTF-IDF Feature Names:\", tfidf_vectorizer.get_feature_names_out())\n",
    "print(\"TF-IDF Matrix:\\n\", tfidf_matrix.toarray())"
   ]
  }
 ],
 "metadata": {
  "kernelspec": {
   "display_name": "Python 3",
   "language": "python",
   "name": "python3"
  },
  "language_info": {
   "codemirror_mode": {
    "name": "ipython",
    "version": 3
   },
   "file_extension": ".py",
   "mimetype": "text/x-python",
   "name": "python",
   "nbconvert_exporter": "python",
   "pygments_lexer": "ipython3",
   "version": "3.12.2"
  }
 },
 "nbformat": 4,
 "nbformat_minor": 2
}
