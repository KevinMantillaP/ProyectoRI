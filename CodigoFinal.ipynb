{
 "cells": [
  {
   "cell_type": "markdown",
   "metadata": {},
   "source": [
    "# Preprocesamiento"
   ]
  },
  {
   "cell_type": "code",
   "execution_count": 2,
   "metadata": {},
   "outputs": [],
   "source": [
    "import os\n",
    "from nltk.stem import SnowballStemmer \n",
    "import nltk\n",
    "import string\n",
    "import re\n",
    "import numpy as np\n",
    "import pandas as pd\n",
    "from sklearn.feature_extraction.text import CountVectorizer, TfidfVectorizer\n",
    "from sklearn.metrics.pairwise import cosine_similarity\n"
   ]
  },
  {
   "cell_type": "code",
   "execution_count": 3,
   "metadata": {},
   "outputs": [],
   "source": [
    "#Path de los datos \n",
    "#data_path = r'C:\\Users\\kevin\\OneDrive\\Documentos\\GitHub\\ProyectoRI\\data\\test_txt'\n",
    "#data_path = r'D:\\U\\7. Septimo\\RI\\ProyectoRI\\data\\training_txt'\n",
    "data_path = r'C:\\Users\\usuario\\Fer-Pc\\Escritorio\\EPN\\2024-A\\SEPTIMO_SEMESTRE\\RECUPERACION_DE_INFORMACION\\repoMantillaRI\\ProyectoRI\\data\\training_txt'"
   ]
  },
  {
   "cell_type": "code",
   "execution_count": 23,
   "metadata": {},
   "outputs": [
    {
     "data": {
      "text/plain": [
       "7769"
      ]
     },
     "execution_count": 23,
     "metadata": {},
     "output_type": "execute_result"
    }
   ],
   "source": [
    "documents = [] #  Vector de documentos\n",
    "for filename in os.listdir(data_path):\n",
    "    if filename.endswith('.txt'): \n",
    "        path = os.path.join(data_path, filename) #Abrimos cada archivo \n",
    "        with open(path, 'r', encoding='utf-8') as file:\n",
    "            content = file.read() # leemos\n",
    "            documents.append((filename, content))"
   ]
  },
  {
   "cell_type": "code",
   "execution_count": 25,
   "metadata": {},
   "outputs": [],
   "source": [
    "#Path de las stopwords\n",
    "#stopwords_path = r\"C:\\Users\\kevin\\OneDrive\\Documentos\\GitHub\\ProyectoRI\\data\\stopwords.txt\"\n",
    "#stopwords_path = r\"D:\\U\\7. Septimo\\RI\\ProyectoRI\\data\\stopwords.txt\"\n",
    "stopwords_path = r\"C:\\Users\\usuario\\Fer-Pc\\Escritorio\\EPN\\2024-A\\SEPTIMO_SEMESTRE\\RECUPERACION_DE_INFORMACION\\repoMantillaRI\\ProyectoRI\\data\\stopwords.txt\""
   ]
  },
  {
   "cell_type": "code",
   "execution_count": 6,
   "metadata": {},
   "outputs": [],
   "source": [
    "#Abrimos el archivo \n",
    "with open(stopwords_path, 'r', encoding='utf-8') as file:\n",
    "    stop_words = set(file.read().splitlines()) # leemos las stopwords"
   ]
  },
  {
   "cell_type": "code",
   "execution_count": 7,
   "metadata": {},
   "outputs": [],
   "source": [
    "#Stemmer se usa para reducir las palabras a su raíz\n",
    "stemmer = SnowballStemmer('english')"
   ]
  },
  {
   "cell_type": "code",
   "execution_count": 26,
   "metadata": {},
   "outputs": [],
   "source": [
    "#Definimos una función que normaliza el texto con todos los requisitos necesarios:\n",
    "def preprocess_text(text):\n",
    "    text = text.lower() #conviertimos en minúsculas\n",
    "    text = re.sub(r'\\d+', '', text)  \n",
    "    text = text.translate(str.maketrans('', '', string.punctuation))#eliminamos los signos de puntuación\n",
    "    tokens = nltk.word_tokenize(text)#tokenizamos\n",
    "    processed_tokens = [stemmer.stem(word) for word in tokens if word not in stop_words] #aplicamos stemming\n",
    "    return ' '.join(processed_tokens)"
   ]
  },
  {
   "cell_type": "code",
   "execution_count": 28,
   "metadata": {},
   "outputs": [],
   "source": [
    "preprocessed_documents = [(filename, preprocess_text(content)) for filename, content in documents]"
   ]
  },
  {
   "cell_type": "markdown",
   "metadata": {},
   "source": [
    "# Vectorizacion"
   ]
  },
  {
   "cell_type": "markdown",
   "metadata": {},
   "source": [
    "### TF-IDF"
   ]
  },
  {
   "cell_type": "code",
   "execution_count": 44,
   "metadata": {},
   "outputs": [],
   "source": [
    "# Extraer solo los contenidos preprocesados para la vectorización\n",
    "preprocessed_contents = [content for _, content in preprocessed_documents]\n",
    "\n",
    "# Inicializar el vectorizador TF-IDF\n",
    "vectorizer_tfidf = TfidfVectorizer()\n",
    "# Vectorizar los contenidos preprocesados\n",
    "X_tfidf = vectorizer_tfidf.fit_transform(preprocessed_contents)"
   ]
  },
  {
   "cell_type": "markdown",
   "metadata": {},
   "source": [
    "### BoW "
   ]
  },
  {
   "cell_type": "code",
   "execution_count": 47,
   "metadata": {},
   "outputs": [],
   "source": [
    "preprocessed_documents_list = [(filename, preprocess_text(content)) for filename, content in preprocessed_documents]\n",
    "\n",
    "# Extraer solo los contenidos preprocesados para la vectorización\n",
    "preprocessed_contents = [content for _, content in preprocessed_documents_list]\n",
    "\n",
    "# Inicializar el vectorizador\n",
    "vectorizer_bow = CountVectorizer()\n",
    "\n",
    "# Vectorizar los contenidos preprocesados\n",
    "X_bow = vectorizer_bow.fit_transform(preprocessed_contents)\n"
   ]
  },
  {
   "cell_type": "markdown",
   "metadata": {},
   "source": [
    "# Motor de busqueda"
   ]
  },
  {
   "cell_type": "markdown",
   "metadata": {},
   "source": [
    "### BoW"
   ]
  },
  {
   "cell_type": "code",
   "execution_count": 49,
   "metadata": {},
   "outputs": [],
   "source": [
    "query = \"japan revis longterm energi demand ministri\"\n",
    "# Vectorización de la consulta utilizando el vectorizador BoW\n",
    "query_vector_bow = vectorizer_bow.transform([query])\n",
    "\n",
    "# Calcular la similitud entre la consulta y los documentos utilizando BoW\n",
    "similarity_scores_bow = cosine_similarity(query_vector_bow, X_bow)\n",
    "\n",
    "# Obtener los documentos ordenados por similitud\n",
    "ranked_documents_bow = np.argsort(similarity_scores_bow)[0][::-1]"
   ]
  },
  {
   "cell_type": "markdown",
   "metadata": {},
   "source": [
    "# Indice Invertido"
   ]
  },
  {
   "cell_type": "markdown",
   "metadata": {},
   "source": [
    "# Metricas de Evaluacion"
   ]
  },
  {
   "cell_type": "code",
   "execution_count": null,
   "metadata": {},
   "outputs": [
    {
     "ename": "NameError",
     "evalue": "name 'documents' is not defined",
     "output_type": "error",
     "traceback": [
      "\u001b[1;31m---------------------------------------------------------------------------\u001b[0m",
      "\u001b[1;31mNameError\u001b[0m                                 Traceback (most recent call last)",
      "Cell \u001b[1;32mIn[1], line 7\u001b[0m\n\u001b[0;32m      4\u001b[0m \u001b[38;5;28;01mfrom\u001b[39;00m \u001b[38;5;21;01msklearn\u001b[39;00m\u001b[38;5;21;01m.\u001b[39;00m\u001b[38;5;21;01mmetrics\u001b[39;00m\u001b[38;5;21;01m.\u001b[39;00m\u001b[38;5;21;01mpairwise\u001b[39;00m \u001b[38;5;28;01mimport\u001b[39;00m cosine_similarity\n\u001b[0;32m      6\u001b[0m \u001b[38;5;66;03m# División de Datos\u001b[39;00m\n\u001b[1;32m----> 7\u001b[0m X_train, X_test, y_train, y_test \u001b[38;5;241m=\u001b[39m train_test_split(\u001b[43mdocuments\u001b[49m, labels, test_size\u001b[38;5;241m=\u001b[39m\u001b[38;5;241m0.2\u001b[39m, random_state\u001b[38;5;241m=\u001b[39m\u001b[38;5;241m42\u001b[39m)\n\u001b[0;32m      9\u001b[0m \u001b[38;5;66;03m# Vectorización TF-IDF\u001b[39;00m\n\u001b[0;32m     10\u001b[0m vectorizer_tfidf \u001b[38;5;241m=\u001b[39m TfidfVectorizer()\n",
      "\u001b[1;31mNameError\u001b[0m: name 'documents' is not defined"
     ]
    }
   ],
   "source": [
    "from sklearn.feature_extraction.text import TfidfVectorizer, CountVectorizer\n",
    "from sklearn.metrics import precision_score, recall_score, f1_score\n",
    "from sklearn.model_selection import train_test_split\n",
    "from sklearn.metrics.pairwise import cosine_similarity\n",
    "\n",
    "# División de Datos\n",
    "X_train, X_test, y_train, y_test = train_test_split(documents, labels, test_size=0.2, random_state=42)\n",
    "\n",
    "# Vectorización TF-IDF\n",
    "vectorizer_tfidf = TfidfVectorizer()\n",
    "X_train_tfidf = vectorizer_tfidf.fit_transform(X_train)\n",
    "X_test_tfidf = vectorizer_tfidf.transform(X_test)\n",
    "\n",
    "# Vectorización BoW\n",
    "vectorizer_bow = CountVectorizer()\n",
    "X_train_bow = vectorizer_bow.fit_transform(X_train)\n",
    "X_test_bow = vectorizer_bow.transform(X_test)\n",
    "\n",
    "# Consulta de Búsqueda\n",
    "query = \"consulta de ejemplo\"\n",
    "query_vector_tfidf = vectorizer_tfidf.transform([query])\n",
    "query_vector_bow = vectorizer_bow.transform([query])\n",
    "\n",
    "# Cálculo de Similitud\n",
    "similarity_scores_tfidf = cosine_similarity(query_vector_tfidf, X_test_tfidf)\n",
    "similarity_scores_bow = cosine_similarity(query_vector_bow, X_test_bow)\n",
    "\n",
    "# Métricas de Evaluación\n",
    "precision_tfidf = precision_score(y_test, similarity_scores_tfidf)\n",
    "recall_tfidf = recall_score(y_test, similarity_scores_tfidf)\n",
    "f1_tfidf = f1_score(y_test, similarity_scores_tfidf)\n",
    "\n",
    "precision_bow = precision_score(y_test, similarity_scores_bow)\n",
    "recall_bow = recall_score(y_test, similarity_scores_bow)\n",
    "f1_bow = f1_score(y_test, similarity_scores_bow)\n",
    "\n",
    "# Comparación de Resultados\n",
    "print(\"Métricas para TF-IDF:\")\n",
    "print(\"Precisión:\", precision_tfidf)\n",
    "print(\"Recall:\", recall_tfidf)\n",
    "print(\"F1 Score:\", f1_tfidf)\n",
    "\n",
    "print(\"\\nMétricas para BoW:\")\n",
    "print(\"Precisión:\", precision_bow)\n",
    "print(\"Recall:\", recall_bow)\n",
    "print(\"F1 Score:\", f1_bow)\n"
   ]
  }
 ],
 "metadata": {
  "kernelspec": {
   "display_name": "Python 3",
   "language": "python",
   "name": "python3"
  },
  "language_info": {
   "codemirror_mode": {
    "name": "ipython",
    "version": 3
   },
   "file_extension": ".py",
   "mimetype": "text/x-python",
   "name": "python",
   "nbconvert_exporter": "python",
   "pygments_lexer": "ipython3",
   "version": "3.12.2"
  }
 },
 "nbformat": 4,
 "nbformat_minor": 2
}
