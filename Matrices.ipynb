{
 "cells": [
  {
   "cell_type": "code",
   "execution_count": 20,
   "metadata": {},
   "outputs": [],
   "source": [
    "import os\n",
    "import numpy as np\n",
    "import pandas as pd\n",
    "from sklearn.feature_extraction.text import CountVectorizer, TfidfVectorizer\n",
    "from sklearn.metrics.pairwise import cosine_similarity\n",
    "\n",
    "# Ruta de la carpeta\n",
    "folder_path = r\"C:\\Users\\kevin\\OneDrive\\Documentos\\Apli2024\\preprocessed_txt\"\n",
    "\n",
    "# Leer los archivos de texto en la carpeta\n",
    "texts = [open(os.path.join(folder_path, filename), 'r', encoding='utf-8').read()\n",
    "         for filename in os.listdir(folder_path) if filename.endswith(\".txt\")]"
   ]
  },
  {
   "cell_type": "code",
   "execution_count": 21,
   "metadata": {},
   "outputs": [
    {
     "data": {
      "text/plain": [
       "3019"
      ]
     },
     "execution_count": 21,
     "metadata": {},
     "output_type": "execute_result"
    }
   ],
   "source": [
    "len(texts)"
   ]
  },
  {
   "cell_type": "markdown",
   "metadata": {},
   "source": [
    "# Vectorización usando Bag of Words (BoW)"
   ]
  },
  {
   "cell_type": "code",
   "execution_count": 22,
   "metadata": {},
   "outputs": [],
   "source": [
    "vectorizer_bow = CountVectorizer()\n",
    "X_bow = vectorizer_bow.fit_transform(texts)"
   ]
  },
  {
   "cell_type": "markdown",
   "metadata": {},
   "source": [
    "# Vectorización usando TF-IDF"
   ]
  },
  {
   "cell_type": "code",
   "execution_count": 23,
   "metadata": {},
   "outputs": [],
   "source": [
    "vectorizer_tfidf = TfidfVectorizer()\n",
    "X_tfidf = vectorizer_tfidf.fit_transform(texts)"
   ]
  },
  {
   "cell_type": "markdown",
   "metadata": {},
   "source": [
    "# Similitud entre consulta BoW"
   ]
  },
  {
   "cell_type": "code",
   "execution_count": 24,
   "metadata": {},
   "outputs": [
    {
     "name": "stdout",
     "output_type": "stream",
     "text": [
      "Resultado 1: Documento 2, Similitud: 0.5326236412913076\n",
      "japan revis longterm energi demand ministri intern trade industri miti revis longterm energi supplydemand outlook august meet forecast downtrend japanes energi demand ministri offici miti expect lower\n",
      "\n",
      "Resultado 2: Documento 14, Similitud: 0.28545680510919436\n",
      "japan ministri open farm trade hit japan agricultur ministri anger demand japan open farm product market offici talk month liberalis harm exist farm export japan senior ministri offici import drop due\n",
      "\n",
      "Resultado 3: Documento 284, Similitud: 0.2810497136596714\n",
      "econom spotlight telecom key japan ministri japan littleknown ministri post telecommun mpt emerg intern forc reckon polit analyst mpt thrust spotlight trade row britain posit strength due control lucr\n",
      "\n",
      "Resultado 4: Documento 282, Similitud: 0.2769103481957583\n",
      "japan ministri comment rice talk report agricultur ministri declin comment local newspap report japan agre hold talk close rice market gatt round idea report comment spokesman told reuter nihon keizai\n",
      "\n",
      "Resultado 5: Documento 1116, Similitud: 0.2437333391107163\n",
      "urg japan open farm market agricultur secretari richard lyng ask japan open farm market washington cut trade deficit eas protectionist pressur agricultur ministri offici told report hideo maki directo\n",
      "\n",
      "Resultado 6: Documento 1101, Similitud: 0.2437333391107163\n",
      "urg japan open farm market agricultur secretari richard lyng ask japan open farm market washington cut trade deficit eas protectionist pressur agricultur ministri offici told report hideo maki directo\n",
      "\n",
      "Resultado 7: Documento 1426, Similitud: 0.2101050788156825\n",
      "japan readi diplomaci gulf secur japan readi diplomaci maintain secur gulf prime minist yasuhiro nakason told report japan cut line communic iran iraq polici broad polit stanc offici foreign ministri \n",
      "\n",
      "Resultado 8: Documento 2031, Similitud: 0.20112949667728247\n",
      "japan ratifi 1986 intern cocoa agreement japan ratifi 1986 intern cocoa agreement icca effect juli 1 renew membership intern cocoa organis icco foreign affair ministri offici japan particip icco meet \n",
      "\n",
      "Resultado 9: Documento 1113, Similitud: 0.20080483222562473\n",
      "lyng open japan talk farm trade barrier agricultur secretari richard lyng open talk japanes govern offici today awar demand open japanes rice beef citrus market reject interview reuter flight tokyo ye\n",
      "\n",
      "Resultado 10: Documento 1960, Similitud: 0.19611613513818404\n",
      "sith rais energi factor ltefac stake sitheenergi lp sign agreement increas interest energi factor 700 pct 534 pct invest 100 mln dlrs energi factor stock\n",
      "\n"
     ]
    }
   ],
   "source": [
    "query = \"japan revis longterm energi demand ministri\"\n",
    "# Vectorización de la consulta utilizando el vectorizador BoW\n",
    "query_vector_bow = vectorizer_bow.transform([query])\n",
    "\n",
    "# Calcular la similitud entre la consulta y los documentos utilizando BoW\n",
    "similarity_scores_bow = cosine_similarity(query_vector_bow, X_bow)\n",
    "\n",
    "# Obtener los documentos ordenados por similitud\n",
    "ranked_documents_bow = np.argsort(similarity_scores_bow)[0][::-1]\n",
    "\n",
    "# Mostrar solo los primeros 10 resultados\n",
    "for i, doc_index in enumerate(ranked_documents_bow[:10]):  # Solo los primeros 10 resultados\n",
    "    print(f\"Resultado {i+1}: Documento {doc_index}, Similitud: {similarity_scores_bow[0][doc_index]}\")\n",
    "    print(texts[doc_index][:200])  # Mostrar los primeros 200 caracteres del documento\n",
    "    print()\n"
   ]
  },
  {
   "cell_type": "markdown",
   "metadata": {},
   "source": [
    "# Similitud entre consulta TF-IDF"
   ]
  },
  {
   "cell_type": "code",
   "execution_count": 28,
   "metadata": {},
   "outputs": [
    {
     "name": "stdout",
     "output_type": "stream",
     "text": [
      "Resultado 1: Documento 2, Similitud: 0.5094756136643848\n",
      "japan revis longterm energi demand ministri intern trade industri miti revis longterm energi supplydemand outlook august meet forecast downtrend japanes energi demand ministri offici miti expect lower\n",
      "\n",
      "Resultado 2: Documento 14, Similitud: 0.22764948233074195\n",
      "japan ministri open farm trade hit japan agricultur ministri anger demand japan open farm product market offici talk month liberalis harm exist farm export japan senior ministri offici import drop due\n",
      "\n",
      "Resultado 3: Documento 284, Similitud: 0.20425198913736256\n",
      "econom spotlight telecom key japan ministri japan littleknown ministri post telecommun mpt emerg intern forc reckon polit analyst mpt thrust spotlight trade row britain posit strength due control lucr\n",
      "\n",
      "Resultado 4: Documento 282, Similitud: 0.20306267500430586\n",
      "japan ministri comment rice talk report agricultur ministri declin comment local newspap report japan agre hold talk close rice market gatt round idea report comment spokesman told reuter nihon keizai\n",
      "\n",
      "Resultado 5: Documento 1960, Similitud: 0.18736498321692543\n",
      "sith rais energi factor ltefac stake sitheenergi lp sign agreement increas interest energi factor 700 pct 534 pct invest 100 mln dlrs energi factor stock\n",
      "\n",
      "Resultado 6: Documento 361, Similitud: 0.1855095745707853\n",
      "uk money market deficit revis downward bank england revis estim today shortfal 350 mln stg 400 mln take account 103 mln stg morn assist\n",
      "\n",
      "Resultado 7: Documento 1218, Similitud: 0.17383127519848138\n",
      "singapor petroleum revis petrol pump price singapor petroleum pte revis pump price petrol june 2 offici grade 97 octan 015 gmlead 968 centslitr 94 cent previous 04 gm lead grade 92 octan 906 cent 876 \n",
      "\n",
      "Resultado 8: Documento 272, Similitud: 0.17376627043954004\n",
      "recent oil demand 26 pct year ago oil demand measur product suppli fell 26 pct week end april 1573 mln barrel day bpd 1616 mln period year ago energi inform administr eia week petroleum status report \n",
      "\n",
      "Resultado 9: Documento 1101, Similitud: 0.17122695615204153\n",
      "urg japan open farm market agricultur secretari richard lyng ask japan open farm market washington cut trade deficit eas protectionist pressur agricultur ministri offici told report hideo maki directo\n",
      "\n",
      "Resultado 10: Documento 1116, Similitud: 0.17122695615204153\n",
      "urg japan open farm market agricultur secretari richard lyng ask japan open farm market washington cut trade deficit eas protectionist pressur agricultur ministri offici told report hideo maki directo\n",
      "\n"
     ]
    }
   ],
   "source": [
    "query = \"japan revis longterm energi demand ministri\"\n",
    "\n",
    "# Vectorización de la consulta utilizando el vectorizador TF-IDF\n",
    "query_vector_tfidf = vectorizer_tfidf.transform([query])\n",
    "\n",
    "# Calcular la similitud entre la consulta y los documentos utilizando TF-IDF\n",
    "similarity_scores_tfidf = cosine_similarity(query_vector_tfidf, X_tfidf)\n",
    "\n",
    "# Obtener los documentos ordenados por similitud\n",
    "ranked_documents_tfidf = np.argsort(similarity_scores_tfidf)[0][::-1]\n",
    "\n",
    "# Mostrar solo los primeros 10 resultados\n",
    "for i, doc_index in enumerate(ranked_documents_tfidf[:10]):  # Solo los primeros 10 resultados\n",
    "    print(f\"Resultado {i+1}: Documento {doc_index}, Similitud: {similarity_scores_tfidf[0][doc_index]}\")\n",
    "    print(texts[doc_index][:200])  # Mostrar los primeros 200 caracteres del documento\n",
    "    print()\n",
    "\n"
   ]
  }
 ],
 "metadata": {
  "kernelspec": {
   "display_name": "Python 3",
   "language": "python",
   "name": "python3"
  },
  "language_info": {
   "codemirror_mode": {
    "name": "ipython",
    "version": 3
   },
   "file_extension": ".py",
   "mimetype": "text/x-python",
   "name": "python",
   "nbconvert_exporter": "python",
   "pygments_lexer": "ipython3",
   "version": "3.12.3"
  }
 },
 "nbformat": 4,
 "nbformat_minor": 2
}
