{
 "cells": [
  {
   "cell_type": "code",
   "execution_count": null,
   "metadata": {},
   "outputs": [],
   "source": [
    "import os\n",
    "\n",
    "data_path = r'C:\\Users\\usuario\\Fer-Pc\\Escritorio\\EPN\\2024-A\\SEPTIMO_SEMESTRE\\RECUPERACION_DE_INFORMACION\\ir24a\\proyectoIB\\reuters\\test'\n",
    "output_path = r'C:\\Users\\usuario\\Fer-Pc\\Escritorio\\EPN\\2024-A\\SEPTIMO_SEMESTRE\\RECUPERACION_DE_INFORMACION\\ir24a\\proyectoIB\\reutersTxt\\test_txt'  # Directorio donde guardar los archivos convertidos\n",
    "\n",
    "# Crea el directorio de salida si no existe\n",
    "if not os.path.exists(output_path):\n",
    "    os.makedirs(output_path)\n",
    "\n",
    "for filename in os.listdir(data_path):\n",
    "    input_path = os.path.join(data_path, filename)\n",
    "    try:\n",
    "        with open(input_path, 'r', encoding='utf-8') as file:\n",
    "            content = file.read()\n",
    "    except UnicodeDecodeError:\n",
    "        try:\n",
    "            with open(input_path, 'r', encoding='latin-1') as file:\n",
    "                content = file.read()\n",
    "        except UnicodeDecodeError:\n",
    "            print(f\"No se pudo leer el archivo {filename} debido a un error de decodificación.\")\n",
    "            continue\n",
    "\n",
    "    # Guarda el contenido en un nuevo archivo con la extensión .txt\n",
    "    output_filename = f\"{os.path.splitext(filename)[0]}.txt\"\n",
    "    output_path_full = os.path.join(output_path, output_filename)\n",
    "    with open(output_path_full, 'w', encoding='utf-8') as output_file:\n",
    "        output_file.write(content)\n",
    "\n",
    "print(\"Transformación completada.\")"
   ]
  }
 ],
 "metadata": {
  "language_info": {
   "name": "python"
  }
 },
 "nbformat": 4,
 "nbformat_minor": 2
}
